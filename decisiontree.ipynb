{
 "cells": [
  {
   "cell_type": "code",
   "execution_count": 1,
   "id": "1a5caadb-6ab9-4a69-8fac-1a0a34b753b7",
   "metadata": {},
   "outputs": [],
   "source": [
    "import numpy as np\n",
    "import scipy.stats as stats\n",
    "from sklearn.datasets import load_iris\n",
    "from sklearn.model_selection import train_test_split\n",
    "from sklearn.neighbors import KNeighborsClassifier\n",
    "from sklearn.tree import DecisionTreeClassifier\n",
    "from sklearn.metrics import confusion_matrix\n",
    "from sklearn.metrics import precision_score\n",
    "from sklearn.metrics import recall_score\n",
    "from sklearn.metrics import f1_score\n",
    "from sklearn.metrics import accuracy_score\n",
    "import matplotlib.pyplot as plt\n",
    "from matplotlib.colors import ListedColormap\n",
    "import matplotlib.patches as mpatches"
   ]
  },
  {
   "cell_type": "code",
   "execution_count": 6,
   "id": "3ba1356f-dc06-4abf-9d7f-fae565439b4c",
   "metadata": {},
   "outputs": [
    {
     "name": "stdout",
     "output_type": "stream",
     "text": [
      "Predictions: [0 0 0 0 0]\n"
     ]
    }
   ],
   "source": [
    "import numpy as np\n",
    "import matplotlib.pyplot as plt\n",
    "\n",
    "class ScratchDecisionTreeClassifierDepth1:\n",
    "    def __init__(self):\n",
    "        self.threshold = None\n",
    "        self.feature_index = None\n",
    "        self.label_majority = None\n",
    "        self.label_minority = None\n",
    "        \n",
    "    def calculate_gini_impurity(self, class_samples):\n",
    "        total_samples = sum(class_samples)\n",
    "        if total_samples == 0:\n",
    "            return 0\n",
    "        else:\n",
    "            gini = 1\n",
    "            for samples in class_samples:\n",
    "                p_i = samples / total_samples\n",
    "                gini -= p_i ** 2\n",
    "            return gini\n",
    "\n",
    "    def calculate_information_gain(self, parent_samples, left_samples, right_samples):\n",
    "        parent_gini = self.calculate_gini_impurity(parent_samples)\n",
    "        left_weight = sum(left_samples) / sum(parent_samples)\n",
    "        right_weight = sum(right_samples) / sum(parent_samples)\n",
    "        left_gini = self.calculate_gini_impurity(left_samples)\n",
    "        right_gini = self.calculate_gini_impurity(right_samples)\n",
    "        \n",
    "        information_gain = parent_gini - (left_weight * left_gini + right_weight * right_gini)\n",
    "        return information_gain\n",
    "\n",
    "    def fit(self, X, y):\n",
    "        best_ig = 0\n",
    "        \n",
    "        for feature_index in range(X.shape[1]):\n",
    "            thresholds = np.unique(X[:, feature_index])\n",
    "            for threshold in thresholds:\n",
    "                left_indices = X[:, feature_index] < threshold\n",
    "                right_indices = ~left_indices\n",
    "                \n",
    "                left_samples = [sum(y[left_indices] == c) for c in np.unique(y)]\n",
    "                right_samples = [sum(y[right_indices] == c) for c in np.unique(y)]\n",
    "                parent_samples = [sum(y == c) for c in np.unique(y)]\n",
    "                \n",
    "                ig = self.calculate_information_gain(parent_samples, left_samples, right_samples)\n",
    "                \n",
    "                if ig > best_ig:\n",
    "                    best_ig = ig\n",
    "                    self.threshold = threshold\n",
    "                    self.feature_index = feature_index\n",
    "\n",
    "                    self.label_majority = np.argmax(left_samples)\n",
    "                    self.label_minority = np.argmax(right_samples)\n",
    "    def predict(self, X):\n",
    "        predictions = []\n",
    "        for sample in X:\n",
    "            if sample[self.feature_index] < self.threshold:\n",
    "                predictions.append(self.label_majority)\n",
    "            else:\n",
    "                predictions.append(self.label_minority)\n",
    "        return np.array(predictions)\n",
    "\n",
    "\n",
    "\n",
    "# Example usage\n",
    "X = np.array([[1], [2], [3], [4], [5]])\n",
    "y = np.array([0, 1, 0, 1, 0])\n",
    "\n",
    "clf = ScratchDecisionTreeClassifierDepth1()\n",
    "clf.fit(X, y)\n",
    "predictions = clf.predict(X)\n",
    "print('Predictions:', predictions)\n",
    "\n"
   ]
  },
  {
   "cell_type": "code",
   "execution_count": 7,
   "id": "fc1a235a-1304-4d45-b1eb-b3309342c848",
   "metadata": {},
   "outputs": [],
   "source": [
    "# Load and preprocess Simple Dataset 2\n",
    "X_train = np.array([[0.1, 0.5], [1.1, 2.3], [-1.5, -2.5], [2.0, 2.5], [-2.0, -1.5]])\n",
    "y_train = np.array([0, 1, 0, 1, 0])  # Binary labels: 0 and 1\n",
    "\n",
    "X_test = np.array([[0.3, 0.7], [1.8, 2.0], [-1.3, -2.0]])\n",
    "y_test = np.array([0, 1, 0])  # Binary labels: 0 and 1\n"
   ]
  },
  {
   "cell_type": "code",
   "execution_count": 8,
   "id": "61a92abd-295b-4460-a5e8-ecae1afeae98",
   "metadata": {},
   "outputs": [],
   "source": [
    "# Train and make predictions using the scratch implementation\n",
    "clf_scratch = ScratchDecisionTreeClassifierDepth1()\n",
    "clf_scratch.fit(X_train, y_train)\n",
    "predictions_scratch = clf_scratch.predict(X_test)\n"
   ]
  },
  {
   "cell_type": "code",
   "execution_count": 9,
   "id": "92e431bc-ffcd-45eb-a0e6-f730c3d8895b",
   "metadata": {},
   "outputs": [],
   "source": [
    "from sklearn.tree import DecisionTreeClassifier\n",
    "from sklearn.metrics import accuracy_score, precision_score, recall_score\n",
    "\n",
    "# Train and make predictions using scikit-learn\n",
    "clf_sklearn = DecisionTreeClassifier(random_state=42)\n",
    "clf_sklearn.fit(X_train, y_train)\n",
    "predictions_sklearn = clf_sklearn.predict(X_test)\n"
   ]
  },
  {
   "cell_type": "code",
   "execution_count": 10,
   "id": "42d4189c-cf7e-4821-9429-5c4a5293d18e",
   "metadata": {},
   "outputs": [
    {
     "name": "stdout",
     "output_type": "stream",
     "text": [
      "Evaluation Metrics:\n",
      "Scratch Implementation:\n",
      "  Accuracy: 1.0\n",
      "  Precision: 1.0\n",
      "  Recall: 1.0\n",
      "Scikit-learn Implementation:\n",
      "  Accuracy: 1.0\n",
      "  Precision: 1.0\n",
      "  Recall: 1.0\n"
     ]
    }
   ],
   "source": [
    "# Calculate evaluation metrics for scratch implementation\n",
    "accuracy_scratch = accuracy_score(y_test, predictions_scratch)\n",
    "precision_scratch = precision_score(y_test, predictions_scratch)\n",
    "recall_scratch = recall_score(y_test, predictions_scratch)\n",
    "\n",
    "# Calculate evaluation metrics for scikit-learn implementation\n",
    "accuracy_sklearn = accuracy_score(y_test, predictions_sklearn)\n",
    "precision_sklearn = precision_score(y_test, predictions_sklearn)\n",
    "recall_sklearn = recall_score(y_test, predictions_sklearn)\n",
    "\n",
    "# Print the results\n",
    "print(\"Evaluation Metrics:\")\n",
    "print(\"Scratch Implementation:\")\n",
    "print(\"  Accuracy:\", accuracy_scratch)\n",
    "print(\"  Precision:\", precision_scratch)\n",
    "print(\"  Recall:\", recall_scratch)\n",
    "print(\"Scikit-learn Implementation:\")\n",
    "print(\"  Accuracy:\", accuracy_sklearn)\n",
    "print(\"  Precision:\", precision_sklearn)\n",
    "print(\"  Recall:\", recall_sklearn)\n"
   ]
  },
  {
   "cell_type": "code",
   "execution_count": 11,
   "id": "62f6ba56-4937-4a81-aa09-2effa788e892",
   "metadata": {},
   "outputs": [
    {
     "data": {
      "image/png": "[encoded data removed]",
      "text/plain": [
       "<Figure size 640x480 with 1 Axes>"
      ]
     },
     "metadata": {},
     "output_type": "display_data"
    },
    {
     "data": {
      "image/png": "[encoded data removed]",
      "text/plain": [
       "<Figure size 640x480 with 1 Axes>"
      ]
     },
     "metadata": {},
     "output_type": "display_data"
    }
   ],
   "source": [
    "# Define a function to plot decision boundary\n",
    "def plot_decision_boundary(clf, X, y, title):\n",
    "    # Create a meshgrid of points\n",
    "    x_min, x_max = X[:, 0].min() - 1, X[:, 0].max() + 1\n",
    "    y_min, y_max = X[:, 1].min() - 1, X[:, 1].max() + 1\n",
    "    xx, yy = np.meshgrid(np.arange(x_min, x_max, 0.02),\n",
    "                         np.arange(y_min, y_max, 0.02))\n",
    "    \n",
    "    # Predict the class labels for each point in the meshgrid\n",
    "    Z = clf.predict(np.c_[xx.ravel(), yy.ravel()])\n",
    "    Z = Z.reshape(xx.shape)\n",
    "    \n",
    "    # Plot the decision boundary and training data points\n",
    "    plt.contourf(xx, yy, Z, alpha=0.4)\n",
    "    plt.scatter(X[:, 0], X[:, 1], c=y, cmap=plt.cm.RdYlBu, s=20, edgecolors='k')\n",
    "    plt.title(title)\n",
    "    plt.xlabel('Feature 1')\n",
    "    plt.ylabel('Feature 2')\n",
    "    plt.show()\n",
    "\n",
    "# Visualize decision area for scratch implementation\n",
    "plot_decision_boundary(clf_scratch, X_train, y_train, 'Decision Area (Scratch Implementation)')\n",
    "\n",
    "# Visualize decision area for scikit-learn implementation\n",
    "plot_decision_boundary(clf_sklearn, X_train, y_train, 'Decision Area (Scikit-learn Implementation)')\n"
   ]
  },
  {
   "cell_type": "code",
   "execution_count": null,
   "id": "a65f2e4d-9024-4ee4-b54f-c80db2f0fc30",
   "metadata": {},
   "outputs": [],
   "source": []
  }
 ],
 "metadata": {
  "kernelspec": {
   "display_name": "Python 3 (ipykernel)",
   "language": "python",
   "name": "python3"
  },
  "language_info": {
   "codemirror_mode": {
    "name": "ipython",
    "version": 3
   },
   "file_extension": ".py",
   "mimetype": "text/x-python",
   "name": "python",
   "nbconvert_exporter": "python",
   "pygments_lexer": "ipython3",
   "version": "3.11.7"
  }
 },
 "nbformat": 4,
 "nbformat_minor": 5
}
